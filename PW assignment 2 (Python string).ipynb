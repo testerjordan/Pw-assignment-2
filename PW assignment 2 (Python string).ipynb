{
 "cells": [
  {
   "cell_type": "raw",
   "id": "a05defb7",
   "metadata": {},
   "source": [
    "QTQ How can we store a s1ngle quote (‘) as a str1ng 1n a var1able?"
   ]
  },
  {
   "cell_type": "code",
   "execution_count": 4,
   "id": "26c09cbe",
   "metadata": {},
   "outputs": [
    {
     "name": "stdout",
     "output_type": "stream",
     "text": [
      "This is a single quote: '\n"
     ]
    }
   ],
   "source": [
    "my_string = 'This is a single quote: \\''\n",
    "print(my_string)"
   ]
  },
  {
   "cell_type": "code",
   "execution_count": 14,
   "id": "2d92a326",
   "metadata": {},
   "outputs": [],
   "source": [
    "x = '\\''"
   ]
  },
  {
   "cell_type": "code",
   "execution_count": 15,
   "id": "25e0b133",
   "metadata": {},
   "outputs": [
    {
     "name": "stdout",
     "output_type": "stream",
     "text": [
      "'\n"
     ]
    }
   ],
   "source": [
    "print(x)"
   ]
  },
  {
   "cell_type": "markdown",
   "id": "4e5d10c4",
   "metadata": {},
   "source": [
    "honestly i do not know about it but i search on bard and lEARN from there and implement here."
   ]
  },
  {
   "cell_type": "markdown",
   "id": "75d11403",
   "metadata": {},
   "source": [
    "Q/Q Refer the below var1able:\n",
    "x = ‘a'\n",
    "Here, 1s x a character type or str1ng type var1able? Support your answer w1th an explanat1on.\n"
   ]
  },
  {
   "cell_type": "raw",
   "id": "de5c52a3",
   "metadata": {},
   "source": [
    "Lets figure out"
   ]
  },
  {
   "cell_type": "code",
   "execution_count": 17,
   "id": "61b5f708",
   "metadata": {},
   "outputs": [],
   "source": [
    "x = 'a'"
   ]
  },
  {
   "cell_type": "code",
   "execution_count": 19,
   "id": "1272e4cb",
   "metadata": {},
   "outputs": [
    {
     "data": {
      "text/plain": [
       "str"
      ]
     },
     "execution_count": 19,
     "metadata": {},
     "output_type": "execute_result"
    }
   ],
   "source": [
    "type(x) # via this i can understand it is string type ."
   ]
  },
  {
   "cell_type": "raw",
   "id": "b7deef70",
   "metadata": {},
   "source": [
    "Q@Q Apply the follow1ng funct1ons on th1s var1able: ‘Welcome to Python foun at1on course'\n",
    "SP f1n (0\n",
    ".P count(0\n",
    "?P len(0\n",
    "P Concatenat1on\n",
    "Note: You can use your cho1ce of parametersQ But make sure 1t 1s correct."
   ]
  },
  {
   "cell_type": "code",
   "execution_count": 21,
   "id": "397e082b",
   "metadata": {},
   "outputs": [],
   "source": [
    "Pw = \"Welcome to Python foundation course\""
   ]
  },
  {
   "cell_type": "code",
   "execution_count": 27,
   "id": "a75cb3b9",
   "metadata": {},
   "outputs": [
    {
     "data": {
      "text/plain": [
       "1"
      ]
     },
     "execution_count": 27,
     "metadata": {},
     "output_type": "execute_result"
    }
   ],
   "source": [
    "Pw.find(\"e\")"
   ]
  },
  {
   "cell_type": "code",
   "execution_count": 28,
   "id": "81e13d50",
   "metadata": {},
   "outputs": [
    {
     "data": {
      "text/plain": [
       "23"
      ]
     },
     "execution_count": 28,
     "metadata": {},
     "output_type": "execute_result"
    }
   ],
   "source": [
    "Pw.find(\"a\")"
   ]
  },
  {
   "cell_type": "code",
   "execution_count": 29,
   "id": "449ef801",
   "metadata": {},
   "outputs": [
    {
     "data": {
      "text/plain": [
       "1"
      ]
     },
     "execution_count": 29,
     "metadata": {},
     "output_type": "execute_result"
    }
   ],
   "source": [
    "Pw.count(\"a\")"
   ]
  },
  {
   "cell_type": "code",
   "execution_count": 30,
   "id": "3221e3fb",
   "metadata": {},
   "outputs": [
    {
     "data": {
      "text/plain": [
       "35"
      ]
     },
     "execution_count": 30,
     "metadata": {},
     "output_type": "execute_result"
    }
   ],
   "source": [
    "len(Pw)"
   ]
  },
  {
   "cell_type": "code",
   "execution_count": 34,
   "id": "6997defb",
   "metadata": {},
   "outputs": [
    {
     "name": "stdout",
     "output_type": "stream",
     "text": [
      "PW skills is Emotion\n"
     ]
    }
   ],
   "source": [
    " print(\"PW skills is\" + \" Emotion\")"
   ]
  },
  {
   "cell_type": "markdown",
   "id": "1d718a5a",
   "metadata": {},
   "source": [
    "Q4Q For the var1able: wor = ‘PanaJ1@T//56(\n",
    "Calculate the follow1ng:\n",
    "(a) Total number of alphabets 1n lowercase\n",
    "(b) Total number of alphabets 1n uppercase\n",
    "(c) Total number of numer1cal 1n str1ng"
   ]
  },
  {
   "cell_type": "code",
   "execution_count": 43,
   "id": "3b9743cd",
   "metadata": {},
   "outputs": [],
   "source": [
    "a = \"PanaJi@12256\""
   ]
  },
  {
   "cell_type": "code",
   "execution_count": 48,
   "id": "0bda01cd",
   "metadata": {
    "scrolled": true
   },
   "outputs": [
    {
     "ename": "SyntaxError",
     "evalue": "invalid syntax (1929604459.py, line 1)",
     "output_type": "error",
     "traceback": [
      "\u001b[1;36m  Cell \u001b[1;32mIn[48], line 1\u001b[1;36m\u001b[0m\n\u001b[1;33m    i do not have correct idea ...\u001b[0m\n\u001b[1;37m      ^\u001b[0m\n\u001b[1;31mSyntaxError\u001b[0m\u001b[1;31m:\u001b[0m invalid syntax\n"
     ]
    }
   ],
   "source": [
    "i do not have correct idea ...\n"
   ]
  },
  {
   "cell_type": "raw",
   "id": "28eba933",
   "metadata": {},
   "source": [
    "Q5Q Wr1te a co e to store a numer1cal value 1ns1 e a var1able then convert 1t 1nto str1ngQ"
   ]
  },
  {
   "cell_type": "code",
   "execution_count": 49,
   "id": "b9801c50",
   "metadata": {},
   "outputs": [],
   "source": [
    " x = 125"
   ]
  },
  {
   "cell_type": "code",
   "execution_count": 50,
   "id": "2a9e56dc",
   "metadata": {},
   "outputs": [
    {
     "data": {
      "text/plain": [
       "125"
      ]
     },
     "execution_count": 50,
     "metadata": {},
     "output_type": "execute_result"
    }
   ],
   "source": [
    "x"
   ]
  },
  {
   "cell_type": "code",
   "execution_count": 52,
   "id": "14338b30",
   "metadata": {},
   "outputs": [
    {
     "data": {
      "text/plain": [
       "'125'"
      ]
     },
     "execution_count": 52,
     "metadata": {},
     "output_type": "execute_result"
    }
   ],
   "source": [
    "str(x)"
   ]
  },
  {
   "cell_type": "markdown",
   "id": "344adc88",
   "metadata": {},
   "source": [
    "I have been solved all these q kindily give me more and more question ."
   ]
  },
  {
   "cell_type": "markdown",
   "id": "6138c404",
   "metadata": {},
   "source": [
    "Btw thanks for giving this valuable content for free ..."
   ]
  },
  {
   "cell_type": "raw",
   "id": "c67f0322",
   "metadata": {},
   "source": [
    "again thanks "
   ]
  }
 ],
 "metadata": {
  "kernelspec": {
   "display_name": "Python 3 (ipykernel)",
   "language": "python",
   "name": "python3"
  },
  "language_info": {
   "codemirror_mode": {
    "name": "ipython",
    "version": 3
   },
   "file_extension": ".py",
   "mimetype": "text/x-python",
   "name": "python",
   "nbconvert_exporter": "python",
   "pygments_lexer": "ipython3",
   "version": "3.11.5"
  }
 },
 "nbformat": 4,
 "nbformat_minor": 5
}
